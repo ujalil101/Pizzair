{
 "cells": [
  {
   "cell_type": "code",
   "execution_count": 1,
   "metadata": {},
   "outputs": [],
   "source": [
    "from tqdm import tqdm\n",
    "import torch\n",
    "import torch.nn as nn\n",
    "import torch.nn.functional as F\n",
    "import pickle\n",
    "import numpy as np\n",
    "import random\n",
    "from pizzairnet import PizzairNet, ResidualBlock\n",
    "from imitation_learning_dataloader import ImitationDataLoader\n",
    "\n",
    "# training configuration\n",
    "\n",
    "device = torch.device(\"cuda:0\" if torch.cuda.is_available() else \"cpu\")\n",
    "#pizzair_model = PizzairNet(ResidualBlock, [3, 4, 6, 3])\n",
    "\n",
    "\n",
    "# data loading\n",
    "\n",
    "video_list = ['wd2_brown',\n",
    "              'wd2_city1',\n",
    "              'wd2_city2',\n",
    "              'wd2_office',\n",
    "              'wd2_park1',\n",
    "              'wd2_park2',\n",
    "              'wd2_sub']"
   ]
  },
  {
   "cell_type": "code",
   "execution_count": null,
   "metadata": {},
   "outputs": [],
   "source": [
    "batch_size = 8\n",
    "\n",
    "pizzair_model = PizzairNet(ResidualBlock, [2,2,2,2])\n",
    "pizzair_model.to(device)\n",
    "num_epochs = 20\n",
    "optimizer = torch.optim.Adam(pizzair_model.parameters(),lr=1e-3)\n",
    "\n",
    "training_losses = np.zeros(num_epochs)\n",
    "\n",
    "for epoch in range(num_epochs):\n",
    "    # training\n",
    "    pizzair_model.train()\n",
    "    t_loss = 0.0\n",
    "    t_num_correct = 0\n",
    "    # need to \"remake\" it because it doens't reset as of now. oops \n",
    "    imitation_train_dataset = ImitationDataLoader(video_name_list=video_list[0:6],batch_size=batch_size)\n",
    "\n",
    "    for X_train_batch,Y_train_batch in tqdm(imitation_train_dataset,desc='Epoch: '+str(epoch)):\n",
    "        # puts on GPU\n",
    "        X_train_batch = X_train_batch.to(device)\n",
    "        Y_train_batch = Y_train_batch.to(device)\n",
    "        \n",
    "        optimizer.zero_grad()\n",
    "        Y_train_hat = pizzair_model(X_train_batch)\n",
    "        #print(Y_train_hat)\n",
    "        #print(Y_train_batch)\n",
    "        loss = pizzair_model.loss(Y_train_hat,Y_train_batch,epoch)\n",
    "        loss.backward()\n",
    "        optimizer.step()\n",
    "        t_loss += loss.item()\n",
    "\n",
    "    training_losses[epoch]   = t_loss/(imitation_train_dataset.__len__()*batch_size)\n",
    "    torch.save(pizzair_model,'models/pizzairnet_v1_checkpoint_' + str(epoch) + '.pth')\n"
   ]
  },
  {
   "cell_type": "code",
   "execution_count": 3,
   "metadata": {},
   "outputs": [
    {
     "name": "stderr",
     "output_type": "stream",
     "text": [
      "Train: 100%|██████████| 776/776 [07:41<00:00,  1.68it/s]\n"
     ]
    },
    {
     "name": "stdout",
     "output_type": "stream",
     "text": [
      "Train Loss: 0.059863801104659886\n"
     ]
    },
    {
     "name": "stderr",
     "output_type": "stream",
     "text": [
      "Test: 100%|██████████| 168/168 [01:25<00:00,  1.96it/s]"
     ]
    },
    {
     "name": "stdout",
     "output_type": "stream",
     "text": [
      "Train Loss: 0.27651374795961947\n"
     ]
    },
    {
     "name": "stderr",
     "output_type": "stream",
     "text": [
      "\n"
     ]
    }
   ],
   "source": [
    "batch_size = 32\n",
    "imitation_train_dataset = ImitationDataLoader(video_name_list=video_list[0:6],batch_size=batch_size)\n",
    "imitation_test_dataset = ImitationDataLoader(video_name_list=[video_list[6]],batch_size=batch_size)\n",
    "pizzair_model = torch.load('models/pizzairnet_v1_1_checkpoint_0.pth')\n",
    "pizzair_model.to(device)\n",
    "pizzair_model.eval()\n",
    "train_loss = 0.0\n",
    "y_true = []\n",
    "y_pred = []\n",
    "with torch.inference_mode():\n",
    "    for X_train_batch,Y_train_batch in tqdm(imitation_train_dataset,desc='Train'):\n",
    "        # puts on GPU\n",
    "        X_train_batch = X_train_batch.to(device)\n",
    "        Y_train_batch = Y_train_batch.to(device)\n",
    "        Y_train_hat = pizzair_model(X_train_batch)\n",
    "        # adds relevant things\n",
    "        #print(X_train_batch)\n",
    "        #print(Y_train_hat[0],Y_train_hat[1],Y_train_hat[2])\n",
    "        loss = pizzair_model.loss(Y_train_hat,Y_train_batch,50)\n",
    "        #optimizer.step()\n",
    "        train_loss += loss.item()\n",
    "    print('Train Loss:',train_loss/(imitation_train_dataset.__len__()*batch_size))\n",
    "    test_loss = 0.0\n",
    "\n",
    "    for X_train_batch,Y_train_batch in tqdm(imitation_test_dataset,desc='Test'):\n",
    "        # puts on GPU\n",
    "        X_train_batch = X_train_batch.to(device)\n",
    "        Y_train_batch = Y_train_batch.to(device)\n",
    "\n",
    "        Y_train_hat = pizzair_model(X_train_batch)\n",
    "        #print(Y_train_hat)\n",
    "        loss = pizzair_model.loss(Y_train_hat,Y_train_batch,50)\n",
    "        test_loss += loss.item()\n",
    "    print('Train Loss:',train_loss/(imitation_test_dataset.__len__()*batch_size))"
   ]
  },
  {
   "cell_type": "code",
   "execution_count": 3,
   "metadata": {},
   "outputs": [],
   "source": [
    "torch.save(pizzair_model,'models/pizzairnet_v1_1_0.pth')"
   ]
  }
 ],
 "metadata": {
  "kernelspec": {
   "display_name": "rl",
   "language": "python",
   "name": "python3"
  },
  "language_info": {
   "codemirror_mode": {
    "name": "ipython",
    "version": 3
   },
   "file_extension": ".py",
   "mimetype": "text/x-python",
   "name": "python",
   "nbconvert_exporter": "python",
   "pygments_lexer": "ipython3",
   "version": "3.11.5"
  }
 },
 "nbformat": 4,
 "nbformat_minor": 2
}
