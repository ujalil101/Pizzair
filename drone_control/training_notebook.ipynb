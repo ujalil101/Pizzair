{
 "cells": [
  {
   "cell_type": "code",
   "execution_count": 1,
   "metadata": {},
   "outputs": [],
   "source": [
    "from tqdm import tqdm\n",
    "import torch\n",
    "import torch.nn as nn\n",
    "import torch.nn.functional as F\n",
    "import pickle\n",
    "import numpy as np\n",
    "import random\n",
    "from pizzairnet import PizzairNet, ResidualBlock\n",
    "from imitation_learning_dataloader import ImitationDataLoader\n",
    "\n",
    "# training configuration\n",
    "\n",
    "device = torch.device(\"cuda:0\" if torch.cuda.is_available() else \"cpu\")\n",
    "#pizzair_model = PizzairNet(ResidualBlock, [3, 4, 6, 3])\n",
    "\n",
    "\n",
    "# data loading\n",
    "\n",
    "video_list_wd2 = ['wd2_brown',\n",
    "              'wd2_city1',\n",
    "              'wd2_city2',\n",
    "              'wd2_office',\n",
    "              'wd2_park1',\n",
    "              'wd2_park2']\n",
    "video_list_fh4 = ['fh4_edin',\n",
    "              'fh4_park',\n",
    "              'fh4_quarry',\n",
    "              'fh4_train',\n",
    "              'fh4_tree']\n",
    "video_list_mix = ['wd2_city1',\n",
    "              'wd2_office',\n",
    "              'wd2_park2',\n",
    "              'fh4_edin',\n",
    "              'fh4_train',\n",
    "              'fh4_tree']\n",
    "video_list_test_wd2 = ['wd2_sub']\n",
    "video_list_real = ['real_south']\n",
    "\n",
    "vid_list_all_sim = video_list_wd2 + video_list_fh4"
   ]
  },
  {
   "cell_type": "code",
   "execution_count": 2,
   "metadata": {},
   "outputs": [
    {
     "name": "stderr",
     "output_type": "stream",
     "text": [
      "Epoch: 1: 100%|██████████| 350/350 [01:55<00:00,  3.04it/s]\n",
      "Epoch: 2: 100%|██████████| 350/350 [01:58<00:00,  2.95it/s]\n",
      "Epoch: 3: 100%|██████████| 350/350 [01:58<00:00,  2.95it/s]\n",
      "Epoch: 4: 100%|██████████| 350/350 [01:58<00:00,  2.94it/s]\n",
      "Epoch: 5: 100%|██████████| 350/350 [01:58<00:00,  2.96it/s]\n",
      "Epoch: 6: 100%|██████████| 350/350 [01:59<00:00,  2.94it/s]\n",
      "Epoch: 7: 100%|██████████| 350/350 [01:58<00:00,  2.94it/s]\n",
      "Epoch: 8: 100%|██████████| 350/350 [01:57<00:00,  2.98it/s]\n",
      "Epoch: 9: 100%|██████████| 350/350 [01:58<00:00,  2.96it/s]\n",
      "Epoch: 10: 100%|██████████| 350/350 [01:57<00:00,  2.99it/s]\n",
      "Epoch: 11: 100%|██████████| 350/350 [01:57<00:00,  2.97it/s]\n",
      "Epoch: 12: 100%|██████████| 350/350 [01:59<00:00,  2.93it/s]\n",
      "Epoch: 13: 100%|██████████| 350/350 [02:03<00:00,  2.83it/s]\n",
      "Epoch: 14: 100%|██████████| 350/350 [01:57<00:00,  2.98it/s]\n",
      "Epoch: 15: 100%|██████████| 350/350 [01:58<00:00,  2.96it/s]\n",
      "Epoch: 16: 100%|██████████| 350/350 [01:56<00:00,  2.99it/s]\n",
      "Epoch: 17: 100%|██████████| 350/350 [01:58<00:00,  2.95it/s]\n",
      "Epoch: 18: 100%|██████████| 350/350 [01:55<00:00,  3.04it/s]\n",
      "Epoch: 19: 100%|██████████| 350/350 [01:56<00:00,  3.00it/s]\n",
      "Epoch: 20: 100%|██████████| 350/350 [01:56<00:00,  2.99it/s]\n",
      "Epoch: 21: 100%|██████████| 350/350 [01:56<00:00,  3.00it/s]\n",
      "Epoch: 22: 100%|██████████| 350/350 [01:56<00:00,  3.00it/s]\n",
      "Epoch: 23: 100%|██████████| 350/350 [01:56<00:00,  3.02it/s]\n",
      "Epoch: 24: 100%|██████████| 350/350 [01:57<00:00,  2.98it/s]\n",
      "Epoch: 25: 100%|██████████| 350/350 [01:57<00:00,  2.97it/s]\n",
      "Epoch: 26: 100%|██████████| 350/350 [01:57<00:00,  2.98it/s]\n",
      "Epoch: 27: 100%|██████████| 350/350 [01:58<00:00,  2.96it/s]\n",
      "Epoch: 28: 100%|██████████| 350/350 [01:59<00:00,  2.93it/s]\n",
      "Epoch: 29: 100%|██████████| 350/350 [01:56<00:00,  3.00it/s]\n",
      "Epoch: 30: 100%|██████████| 350/350 [01:57<00:00,  2.97it/s]\n",
      "Epoch: 31: 100%|██████████| 350/350 [01:57<00:00,  2.98it/s]\n",
      "Epoch: 32: 100%|██████████| 350/350 [01:56<00:00,  3.00it/s]\n",
      "Epoch: 33: 100%|██████████| 350/350 [01:58<00:00,  2.94it/s]\n",
      "Epoch: 34: 100%|██████████| 350/350 [01:57<00:00,  2.97it/s]\n",
      "Epoch: 35: 100%|██████████| 350/350 [01:56<00:00,  3.00it/s]\n",
      "Epoch: 36: 100%|██████████| 350/350 [01:57<00:00,  2.97it/s]\n",
      "Epoch: 37: 100%|██████████| 350/350 [01:58<00:00,  2.96it/s]\n",
      "Epoch: 38: 100%|██████████| 350/350 [01:57<00:00,  2.99it/s]\n",
      "Epoch: 39: 100%|██████████| 350/350 [01:57<00:00,  2.97it/s]\n",
      "Epoch: 40: 100%|██████████| 350/350 [01:57<00:00,  2.98it/s]\n",
      "Epoch: 41: 100%|██████████| 350/350 [01:56<00:00,  3.01it/s]\n",
      "Epoch: 42: 100%|██████████| 350/350 [01:56<00:00,  2.99it/s]\n",
      "Epoch: 43: 100%|██████████| 350/350 [01:57<00:00,  2.99it/s]\n",
      "Epoch: 44: 100%|██████████| 350/350 [01:55<00:00,  3.02it/s]\n",
      "Epoch: 45: 100%|██████████| 350/350 [01:57<00:00,  2.99it/s]\n",
      "Epoch: 46: 100%|██████████| 350/350 [01:58<00:00,  2.94it/s]\n",
      "Epoch: 47: 100%|██████████| 350/350 [01:57<00:00,  2.98it/s]\n",
      "Epoch: 48: 100%|██████████| 350/350 [01:59<00:00,  2.92it/s]\n",
      "Epoch: 49: 100%|██████████| 350/350 [01:58<00:00,  2.94it/s]\n",
      "Epoch: 50: 100%|██████████| 350/350 [01:57<00:00,  2.98it/s]\n",
      "Epoch: 51: 100%|██████████| 350/350 [01:57<00:00,  2.98it/s]\n",
      "Epoch: 52: 100%|██████████| 350/350 [01:55<00:00,  3.02it/s]\n",
      "Epoch: 53: 100%|██████████| 350/350 [01:56<00:00,  3.00it/s]\n",
      "Epoch: 54: 100%|██████████| 350/350 [01:55<00:00,  3.03it/s]\n",
      "Epoch: 55: 100%|██████████| 350/350 [01:56<00:00,  3.01it/s]\n",
      "Epoch: 56: 100%|██████████| 350/350 [01:56<00:00,  3.01it/s]\n",
      "Epoch: 57: 100%|██████████| 350/350 [01:56<00:00,  3.00it/s]\n",
      "Epoch: 58: 100%|██████████| 350/350 [01:57<00:00,  2.98it/s]\n",
      "Epoch: 59: 100%|██████████| 350/350 [01:56<00:00,  3.00it/s]\n",
      "Epoch: 60: 100%|██████████| 350/350 [01:55<00:00,  3.02it/s]\n",
      "Epoch: 61: 100%|██████████| 350/350 [01:55<00:00,  3.03it/s]\n",
      "Epoch: 62: 100%|██████████| 350/350 [01:55<00:00,  3.04it/s]\n",
      "Epoch: 63: 100%|██████████| 350/350 [01:57<00:00,  2.97it/s]\n",
      "Epoch: 64: 100%|██████████| 350/350 [01:56<00:00,  3.00it/s]\n",
      "Epoch: 65: 100%|██████████| 350/350 [01:56<00:00,  3.01it/s]\n",
      "Epoch: 66: 100%|██████████| 350/350 [01:57<00:00,  2.98it/s]\n",
      "Epoch: 67: 100%|██████████| 350/350 [01:57<00:00,  2.99it/s]\n",
      "Epoch: 68: 100%|██████████| 350/350 [01:57<00:00,  2.97it/s]\n",
      "Epoch: 69: 100%|██████████| 350/350 [01:57<00:00,  2.98it/s]\n",
      "Epoch: 70: 100%|██████████| 350/350 [01:55<00:00,  3.03it/s]\n",
      "Epoch: 71: 100%|██████████| 350/350 [01:56<00:00,  2.99it/s]\n",
      "Epoch: 72: 100%|██████████| 350/350 [01:56<00:00,  3.00it/s]\n",
      "Epoch: 73: 100%|██████████| 350/350 [01:55<00:00,  3.03it/s]\n",
      "Epoch: 74: 100%|██████████| 350/350 [01:55<00:00,  3.02it/s]\n"
     ]
    },
    {
     "ename": "KeyboardInterrupt",
     "evalue": "",
     "output_type": "error",
     "traceback": [
      "\u001b[1;31m---------------------------------------------------------------------------\u001b[0m",
      "\u001b[1;31mKeyboardInterrupt\u001b[0m                         Traceback (most recent call last)",
      "Cell \u001b[1;32mIn[2], line 16\u001b[0m\n\u001b[0;32m     14\u001b[0m t_num_correct \u001b[38;5;241m=\u001b[39m \u001b[38;5;241m0\u001b[39m\n\u001b[0;32m     15\u001b[0m \u001b[38;5;66;03m# need to \"remake\" it because it doens't reset as of now. oops \u001b[39;00m\n\u001b[1;32m---> 16\u001b[0m imitation_train_dataset \u001b[38;5;241m=\u001b[39m \u001b[43mImitationDataLoader\u001b[49m\u001b[43m(\u001b[49m\u001b[43mvideo_name_list\u001b[49m\u001b[38;5;241;43m=\u001b[39;49m\u001b[43mvid_list_all_sim\u001b[49m\u001b[43m,\u001b[49m\u001b[43mbatch_size\u001b[49m\u001b[38;5;241;43m=\u001b[39;49m\u001b[43mbatch_size\u001b[49m\u001b[43m)\u001b[49m\n\u001b[0;32m     18\u001b[0m \u001b[38;5;28;01mfor\u001b[39;00m X_train_batch,Y_train_batch \u001b[38;5;129;01min\u001b[39;00m tqdm(imitation_train_dataset,desc\u001b[38;5;241m=\u001b[39m\u001b[38;5;124m'\u001b[39m\u001b[38;5;124mEpoch: \u001b[39m\u001b[38;5;124m'\u001b[39m\u001b[38;5;241m+\u001b[39m\u001b[38;5;28mstr\u001b[39m(epoch\u001b[38;5;241m+\u001b[39m\u001b[38;5;241m1\u001b[39m)):\n\u001b[0;32m     19\u001b[0m     \u001b[38;5;66;03m# puts on GPU\u001b[39;00m\n\u001b[0;32m     20\u001b[0m     X_train_batch \u001b[38;5;241m=\u001b[39m X_train_batch\u001b[38;5;241m.\u001b[39mto(device)\n",
      "File \u001b[1;32mc:\\Users\\qtcc\\OneDrive\\Desktop\\Senior Project\\Pizzair\\drone_control\\imitation_learning_dataloader.py:26\u001b[0m, in \u001b[0;36mImitationDataLoader.__init__\u001b[1;34m(self, video_name_list, batch_size, video_directory, label_directory, video_size)\u001b[0m\n\u001b[0;32m     24\u001b[0m \u001b[38;5;28;01mfor\u001b[39;00m name \u001b[38;5;129;01min\u001b[39;00m video_name_list:\n\u001b[0;32m     25\u001b[0m     video_files\u001b[38;5;241m.\u001b[39mappend(video_directory \u001b[38;5;241m+\u001b[39m \u001b[38;5;124m'\u001b[39m\u001b[38;5;124mvid_\u001b[39m\u001b[38;5;124m'\u001b[39m \u001b[38;5;241m+\u001b[39m name \u001b[38;5;241m+\u001b[39m \u001b[38;5;124m'\u001b[39m\u001b[38;5;124m.mp4\u001b[39m\u001b[38;5;124m'\u001b[39m)\n\u001b[1;32m---> 26\u001b[0m \u001b[38;5;28mself\u001b[39m\u001b[38;5;241m.\u001b[39mvl \u001b[38;5;241m=\u001b[39m \u001b[43mVideoLoader\u001b[49m\u001b[43m(\u001b[49m\u001b[43mvideo_files\u001b[49m\u001b[43m,\u001b[49m\u001b[43m \u001b[49m\u001b[43mctx\u001b[49m\u001b[38;5;241;43m=\u001b[39;49m\u001b[43m[\u001b[49m\u001b[43mcpu\u001b[49m\u001b[43m(\u001b[49m\u001b[38;5;241;43m0\u001b[39;49m\u001b[43m)\u001b[49m\u001b[43m]\u001b[49m\u001b[43m,\u001b[49m\u001b[43m \u001b[49m\u001b[43mshape\u001b[49m\u001b[38;5;241;43m=\u001b[39;49m\u001b[43m(\u001b[49m\u001b[43mbatch_size\u001b[49m\u001b[43m,\u001b[49m\u001b[43mvideo_size\u001b[49m\u001b[43m[\u001b[49m\u001b[38;5;241;43m0\u001b[39;49m\u001b[43m]\u001b[49m\u001b[43m,\u001b[49m\u001b[43mvideo_size\u001b[49m\u001b[43m[\u001b[49m\u001b[38;5;241;43m1\u001b[39;49m\u001b[43m]\u001b[49m\u001b[43m,\u001b[49m\u001b[38;5;241;43m3\u001b[39;49m\u001b[43m)\u001b[49m\u001b[43m,\u001b[49m\u001b[43m \u001b[49m\u001b[43minterval\u001b[49m\u001b[38;5;241;43m=\u001b[39;49m\u001b[38;5;241;43m0\u001b[39;49m\u001b[43m,\u001b[49m\u001b[43m \u001b[49m\u001b[43mskip\u001b[49m\u001b[38;5;241;43m=\u001b[39;49m\u001b[38;5;241;43m0\u001b[39;49m\u001b[43m,\u001b[49m\u001b[43m \u001b[49m\u001b[43mshuffle\u001b[49m\u001b[38;5;241;43m=\u001b[39;49m\u001b[38;5;241;43m1\u001b[39;49m\u001b[43m)\u001b[49m\n\u001b[0;32m     27\u001b[0m \u001b[38;5;28mself\u001b[39m\u001b[38;5;241m.\u001b[39mbatch_size \u001b[38;5;241m=\u001b[39m batch_size\n\u001b[0;32m     28\u001b[0m \u001b[38;5;28mself\u001b[39m\u001b[38;5;241m.\u001b[39mvideo_size \u001b[38;5;241m=\u001b[39m video_size\n",
      "File \u001b[1;32mc:\\Users\\qtcc\\miniconda3\\envs\\rl\\Lib\\site-packages\\decord\\video_loader.py:54\u001b[0m, in \u001b[0;36mVideoLoader.__init__\u001b[1;34m(self, uris, ctx, shape, interval, skip, shuffle, prefetch)\u001b[0m\n\u001b[0;32m     52\u001b[0m \u001b[38;5;28;01massert\u001b[39;00m \u001b[38;5;28misinstance\u001b[39m(shape, (\u001b[38;5;28mlist\u001b[39m, \u001b[38;5;28mtuple\u001b[39m))\n\u001b[0;32m     53\u001b[0m \u001b[38;5;28;01massert\u001b[39;00m \u001b[38;5;28mlen\u001b[39m(shape) \u001b[38;5;241m==\u001b[39m \u001b[38;5;241m4\u001b[39m, \u001b[38;5;124m\"\u001b[39m\u001b[38;5;124mexpected shape: [bs, height, width, 3], given \u001b[39m\u001b[38;5;132;01m{}\u001b[39;00m\u001b[38;5;124m\"\u001b[39m\u001b[38;5;241m.\u001b[39mformat(shape)\n\u001b[1;32m---> 54\u001b[0m \u001b[38;5;28mself\u001b[39m\u001b[38;5;241m.\u001b[39m_handle \u001b[38;5;241m=\u001b[39m \u001b[43m_CAPI_VideoLoaderGetVideoLoader\u001b[49m\u001b[43m(\u001b[49m\n\u001b[0;32m     55\u001b[0m \u001b[43m    \u001b[49m\u001b[43muri\u001b[49m\u001b[43m,\u001b[49m\u001b[43m \u001b[49m\u001b[43mdevice_types\u001b[49m\u001b[43m,\u001b[49m\u001b[43m \u001b[49m\u001b[43mdevice_ids\u001b[49m\u001b[43m,\u001b[49m\u001b[43m \u001b[49m\u001b[43mshape\u001b[49m\u001b[43m[\u001b[49m\u001b[38;5;241;43m0\u001b[39;49m\u001b[43m]\u001b[49m\u001b[43m,\u001b[49m\u001b[43m \u001b[49m\u001b[43mshape\u001b[49m\u001b[43m[\u001b[49m\u001b[38;5;241;43m1\u001b[39;49m\u001b[43m]\u001b[49m\u001b[43m,\u001b[49m\u001b[43m \u001b[49m\u001b[43mshape\u001b[49m\u001b[43m[\u001b[49m\u001b[38;5;241;43m2\u001b[39;49m\u001b[43m]\u001b[49m\u001b[43m,\u001b[49m\u001b[43m \u001b[49m\u001b[43mshape\u001b[49m\u001b[43m[\u001b[49m\u001b[38;5;241;43m3\u001b[39;49m\u001b[43m]\u001b[49m\u001b[43m,\u001b[49m\u001b[43m \u001b[49m\u001b[43minterval\u001b[49m\u001b[43m,\u001b[49m\u001b[43m \u001b[49m\u001b[43mskip\u001b[49m\u001b[43m,\u001b[49m\u001b[43m \u001b[49m\u001b[43mshuffle\u001b[49m\u001b[43m,\u001b[49m\u001b[43m \u001b[49m\u001b[43mprefetch\u001b[49m\u001b[43m)\u001b[49m\n\u001b[0;32m     56\u001b[0m \u001b[38;5;28;01massert\u001b[39;00m \u001b[38;5;28mself\u001b[39m\u001b[38;5;241m.\u001b[39m_handle \u001b[38;5;129;01mis\u001b[39;00m \u001b[38;5;129;01mnot\u001b[39;00m \u001b[38;5;28;01mNone\u001b[39;00m\n\u001b[0;32m     57\u001b[0m \u001b[38;5;28mself\u001b[39m\u001b[38;5;241m.\u001b[39m_len \u001b[38;5;241m=\u001b[39m _CAPI_VideoLoaderLength(\u001b[38;5;28mself\u001b[39m\u001b[38;5;241m.\u001b[39m_handle)\n",
      "File \u001b[1;32mc:\\Users\\qtcc\\miniconda3\\envs\\rl\\Lib\\site-packages\\decord\\_ffi\\_ctypes\\function.py:173\u001b[0m, in \u001b[0;36mFunctionBase.__call__\u001b[1;34m(self, *args)\u001b[0m\n\u001b[0;32m    171\u001b[0m ret_val \u001b[38;5;241m=\u001b[39m DECORDValue()\n\u001b[0;32m    172\u001b[0m ret_tcode \u001b[38;5;241m=\u001b[39m ctypes\u001b[38;5;241m.\u001b[39mc_int()\n\u001b[1;32m--> 173\u001b[0m check_call(\u001b[43m_LIB\u001b[49m\u001b[38;5;241;43m.\u001b[39;49m\u001b[43mDECORDFuncCall\u001b[49m\u001b[43m(\u001b[49m\n\u001b[0;32m    174\u001b[0m \u001b[43m    \u001b[49m\u001b[38;5;28;43mself\u001b[39;49m\u001b[38;5;241;43m.\u001b[39;49m\u001b[43mhandle\u001b[49m\u001b[43m,\u001b[49m\u001b[43m \u001b[49m\u001b[43mvalues\u001b[49m\u001b[43m,\u001b[49m\u001b[43m \u001b[49m\u001b[43mtcodes\u001b[49m\u001b[43m,\u001b[49m\u001b[43m \u001b[49m\u001b[43mctypes\u001b[49m\u001b[38;5;241;43m.\u001b[39;49m\u001b[43mc_int\u001b[49m\u001b[43m(\u001b[49m\u001b[43mnum_args\u001b[49m\u001b[43m)\u001b[49m\u001b[43m,\u001b[49m\n\u001b[0;32m    175\u001b[0m \u001b[43m    \u001b[49m\u001b[43mctypes\u001b[49m\u001b[38;5;241;43m.\u001b[39;49m\u001b[43mbyref\u001b[49m\u001b[43m(\u001b[49m\u001b[43mret_val\u001b[49m\u001b[43m)\u001b[49m\u001b[43m,\u001b[49m\u001b[43m \u001b[49m\u001b[43mctypes\u001b[49m\u001b[38;5;241;43m.\u001b[39;49m\u001b[43mbyref\u001b[49m\u001b[43m(\u001b[49m\u001b[43mret_tcode\u001b[49m\u001b[43m)\u001b[49m\u001b[43m)\u001b[49m)\n\u001b[0;32m    176\u001b[0m _ \u001b[38;5;241m=\u001b[39m temp_args\n\u001b[0;32m    177\u001b[0m _ \u001b[38;5;241m=\u001b[39m args\n",
      "\u001b[1;31mKeyboardInterrupt\u001b[0m: "
     ]
    }
   ],
   "source": [
    "batch_size = 128\n",
    "\n",
    "pizzair_model = PizzairNet(ResidualBlock, [2,2,2,2])\n",
    "pizzair_model.to(device)\n",
    "num_epochs = 100\n",
    "optimizer = torch.optim.AdamW(pizzair_model.parameters(),lr=1e-3)\n",
    "\n",
    "training_losses = np.zeros(num_epochs)\n",
    "\n",
    "for epoch in range(num_epochs):\n",
    "    # training\n",
    "    pizzair_model.train()\n",
    "    t_loss = 0.0\n",
    "    t_num_correct = 0\n",
    "    # need to \"remake\" it because it doens't reset as of now. oops \n",
    "    imitation_train_dataset = ImitationDataLoader(video_name_list=vid_list_all_sim,batch_size=batch_size)\n",
    "\n",
    "    for X_train_batch,Y_train_batch in tqdm(imitation_train_dataset,desc='Epoch: '+str(epoch+1)):\n",
    "        # puts on GPU\n",
    "        X_train_batch = X_train_batch.to(device)\n",
    "        Y_train_batch = Y_train_batch.to(device)\n",
    "        \n",
    "        optimizer.zero_grad()\n",
    "        Y_train_hat = pizzair_model(X_train_batch)\n",
    "        #print(Y_train_hat)\n",
    "        #print(Y_train_batch)\n",
    "        loss = pizzair_model.loss(Y_train_hat,Y_train_batch,epoch)\n",
    "        loss.backward()\n",
    "        optimizer.step()\n",
    "        t_loss += loss.item()\n",
    "\n",
    "    training_losses[epoch]   = t_loss/(imitation_train_dataset.__len__()*batch_size)\n",
    "torch.save(pizzair_model,'models/model_v2__wd2' +  '.pth')\n"
   ]
  },
  {
   "cell_type": "code",
   "execution_count": 3,
   "metadata": {},
   "outputs": [],
   "source": [
    "torch.save(pizzair_model,'models/model_v2_all' +  '.pth')\n"
   ]
  },
  {
   "cell_type": "code",
   "execution_count": 5,
   "metadata": {},
   "outputs": [
    {
     "name": "stderr",
     "output_type": "stream",
     "text": [
      "Epoch: 1: 100%|██████████| 16/16 [00:04<00:00,  3.29it/s]\n",
      "Epoch: 2: 100%|██████████| 16/16 [00:04<00:00,  3.31it/s]\n",
      "Epoch: 3: 100%|██████████| 16/16 [00:04<00:00,  3.32it/s]\n",
      "Epoch: 4: 100%|██████████| 16/16 [00:04<00:00,  3.29it/s]\n",
      "Epoch: 5: 100%|██████████| 16/16 [00:04<00:00,  3.32it/s]\n",
      "Epoch: 6: 100%|██████████| 16/16 [00:04<00:00,  3.31it/s]\n",
      "Epoch: 7: 100%|██████████| 16/16 [00:04<00:00,  3.32it/s]\n",
      "Epoch: 8: 100%|██████████| 16/16 [00:04<00:00,  3.30it/s]\n",
      "Epoch: 9: 100%|██████████| 16/16 [00:04<00:00,  3.31it/s]\n",
      "Epoch: 10: 100%|██████████| 16/16 [00:04<00:00,  3.31it/s]\n",
      "Epoch: 11: 100%|██████████| 16/16 [00:04<00:00,  3.30it/s]\n",
      "Epoch: 12: 100%|██████████| 16/16 [00:04<00:00,  3.31it/s]\n",
      "Epoch: 13: 100%|██████████| 16/16 [00:04<00:00,  3.30it/s]\n",
      "Epoch: 14: 100%|██████████| 16/16 [00:04<00:00,  3.31it/s]\n",
      "Epoch: 15: 100%|██████████| 16/16 [00:04<00:00,  3.31it/s]\n",
      "Epoch: 16: 100%|██████████| 16/16 [00:04<00:00,  3.20it/s]\n",
      "Epoch: 17: 100%|██████████| 16/16 [00:05<00:00,  2.98it/s]\n",
      "Epoch: 18: 100%|██████████| 16/16 [00:05<00:00,  2.88it/s]\n",
      "Epoch: 19: 100%|██████████| 16/16 [00:05<00:00,  3.08it/s]\n",
      "Epoch: 20: 100%|██████████| 16/16 [00:05<00:00,  3.16it/s]\n"
     ]
    }
   ],
   "source": [
    "### Fine-tuning script ### \n",
    "batch_size = 128\n",
    "\n",
    "pizzair_model = torch.load('models/model_v2_all' +  '.pth')\n",
    "pizzair_model.to(device)\n",
    "num_epochs = 20\n",
    "optimizer = torch.optim.AdamW(pizzair_model.parameters(),lr=1e-4)\n",
    "\n",
    "training_losses = np.zeros(num_epochs)\n",
    "\n",
    "for epoch in range(num_epochs):\n",
    "    # training\n",
    "    pizzair_model.train()\n",
    "    t_loss = 0.0\n",
    "    t_num_correct = 0\n",
    "    # need to \"remake\" it because it doens't reset as of now. oops \n",
    "    imitation_train_dataset = ImitationDataLoader(video_name_list=video_list_real,batch_size=batch_size)\n",
    "\n",
    "    for X_train_batch,Y_train_batch in tqdm(imitation_train_dataset,desc='Epoch: '+str(epoch+1)):\n",
    "        # puts on GPU\n",
    "        X_train_batch = X_train_batch.to(device)\n",
    "        Y_train_batch = Y_train_batch.to(device)\n",
    "        \n",
    "        optimizer.zero_grad()\n",
    "        Y_train_hat = pizzair_model(X_train_batch)\n",
    "        #print(Y_train_hat)\n",
    "        #print(Y_train_batch)\n",
    "        loss = pizzair_model.loss(Y_train_hat,Y_train_batch,epoch+100)\n",
    "        loss.backward()\n",
    "        optimizer.step()\n",
    "        t_loss += loss.item()\n",
    "\n",
    "    training_losses[epoch]   = t_loss/(imitation_train_dataset.__len__()*batch_size)\n",
    "torch.save(pizzair_model,'models/model_v2_all_ft' +  '.pth')\n"
   ]
  },
  {
   "cell_type": "code",
   "execution_count": 4,
   "metadata": {},
   "outputs": [
    {
     "data": {
      "image/png": "[encoded data removed]",
      "text/plain": [
       "<Figure size 640x480 with 1 Axes>"
      ]
     },
     "metadata": {},
     "output_type": "display_data"
    }
   ],
   "source": [
    "# plots training loss stuff\n",
    "import matplotlib.pyplot as plt\n",
    "plt.plot(range(len(training_losses)),training_losses)\n",
    "np.save('train_loss_record.npy',training_losses)"
   ]
  },
  {
   "cell_type": "code",
   "execution_count": 8,
   "metadata": {},
   "outputs": [
    {
     "name": "stderr",
     "output_type": "stream",
     "text": [
      "Train: 100%|██████████| 192/192 [00:30<00:00,  6.30it/s]\n"
     ]
    },
    {
     "name": "stdout",
     "output_type": "stream",
     "text": [
      "Train Loss: 0.00900136136165012\n"
     ]
    },
    {
     "name": "stderr",
     "output_type": "stream",
     "text": [
      "Test: 100%|██████████| 42/42 [00:08<00:00,  5.07it/s]"
     ]
    },
    {
     "name": "stdout",
     "output_type": "stream",
     "text": [
      "Train Loss: 0.04114908051040055\n"
     ]
    },
    {
     "name": "stderr",
     "output_type": "stream",
     "text": [
      "\n"
     ]
    }
   ],
   "source": [
    "batch_size = 128\n",
    "imitation_train_dataset = ImitationDataLoader(video_name_list=video_list[0:6],batch_size=batch_size)\n",
    "imitation_test_dataset = ImitationDataLoader(video_name_list=[video_list[6]],batch_size=batch_size)\n",
    "pizzair_model = torch.load('models/pizzairnet_v1_checkpoint_100.pth')\n",
    "pizzair_model.to(device)\n",
    "pizzair_model.eval()\n",
    "train_loss = 0.0\n",
    "y_true = []\n",
    "y_pred = []\n",
    "with torch.inference_mode():\n",
    "    for X_train_batch,Y_train_batch in tqdm(imitation_train_dataset,desc='Train'):\n",
    "        # puts on GPU\n",
    "        X_train_batch = X_train_batch.to(device)\n",
    "        Y_train_batch = Y_train_batch.to(device)\n",
    "        Y_train_hat = pizzair_model(X_train_batch)\n",
    "        # adds relevant things\n",
    "        #print(X_train_batch)\n",
    "        #print(Y_train_hat[0][0],Y_train_hat[1][0],Y_train_hat[2][0])\n",
    "        #print(Y_train_batch[0][0],Y_train_batch[0][1],Y_train_batch[0][2])\n",
    "        loss = pizzair_model.loss(Y_train_hat,Y_train_batch,50)\n",
    "        #optimizer.step()\n",
    "        train_loss += loss.item()\n",
    "    print('Train Loss:',train_loss/(imitation_train_dataset.__len__()*batch_size))\n",
    "    test_loss = 0.0\n",
    "\n",
    "    for X_train_batch,Y_train_batch in tqdm(imitation_test_dataset,desc='Test'):\n",
    "        # puts on GPU\n",
    "        X_train_batch = X_train_batch.to(device)\n",
    "        Y_train_batch = Y_train_batch.to(device)\n",
    "\n",
    "        Y_train_hat = pizzair_model(X_train_batch)\n",
    "        #print(Y_train_hat)\n",
    "        loss = pizzair_model.loss(Y_train_hat,Y_train_batch,50)\n",
    "        test_loss += loss.item()\n",
    "    print('Train Loss:',train_loss/(imitation_test_dataset.__len__()*batch_size))"
   ]
  },
  {
   "cell_type": "code",
   "execution_count": 3,
   "metadata": {},
   "outputs": [],
   "source": [
    "torch.save(pizzair_model,'models/pizzairnet_v1_1_0.pth')"
   ]
  }
 ],
 "metadata": {
  "kernelspec": {
   "display_name": "rl",
   "language": "python",
   "name": "python3"
  },
  "language_info": {
   "codemirror_mode": {
    "name": "ipython",
    "version": 3
   },
   "file_extension": ".py",
   "mimetype": "text/x-python",
   "name": "python",
   "nbconvert_exporter": "python",
   "pygments_lexer": "ipython3",
   "version": "3.11.5"
  }
 },
 "nbformat": 4,
 "nbformat_minor": 2
}
