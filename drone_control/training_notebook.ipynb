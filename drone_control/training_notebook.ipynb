{
 "cells": [
  {
   "cell_type": "code",
   "execution_count": 1,
   "metadata": {},
   "outputs": [],
   "source": [
    "from tqdm import tqdm\n",
    "import torch\n",
    "import torch.nn as nn\n",
    "import torch.nn.functional as F\n",
    "import pickle\n",
    "import numpy as np\n",
    "import random\n",
    "from pizzairnet import PizzairNet, ResidualBlock\n",
    "from imitation_learning_dataloader import ImitationDataLoader\n",
    "\n",
    "# training configuration\n",
    "\n",
    "device = torch.device(\"cuda:0\" if torch.cuda.is_available() else \"cpu\")\n",
    "#pizzair_model = PizzairNet(ResidualBlock, [3, 4, 6, 3])\n",
    "\n",
    "\n",
    "# data loading\n",
    "\n",
    "video_list = ['wd2_brown',\n",
    "              'wd2_city1',\n",
    "              'wd2_city2',\n",
    "              'wd2_office',\n",
    "              'wd2_park1',\n",
    "              'wd2_park2',\n",
    "              'wd2_sub']"
   ]
  },
  {
   "cell_type": "code",
   "execution_count": 2,
   "metadata": {},
   "outputs": [
    {
     "name": "stderr",
     "output_type": "stream",
     "text": [
      "Epoch: 0: 100%|██████████| 192/192 [00:58<00:00,  3.27it/s]\n",
      "Epoch: 1: 100%|██████████| 192/192 [00:58<00:00,  3.26it/s]\n",
      "Epoch: 2: 100%|██████████| 192/192 [00:59<00:00,  3.21it/s]\n",
      "Epoch: 3: 100%|██████████| 192/192 [00:59<00:00,  3.22it/s]\n",
      "Epoch: 4: 100%|██████████| 192/192 [01:00<00:00,  3.19it/s]\n",
      "Epoch: 5: 100%|██████████| 192/192 [00:59<00:00,  3.22it/s]\n",
      "Epoch: 6: 100%|██████████| 192/192 [00:59<00:00,  3.20it/s]\n",
      "Epoch: 7: 100%|██████████| 192/192 [01:00<00:00,  3.17it/s]\n",
      "Epoch: 8: 100%|██████████| 192/192 [00:59<00:00,  3.23it/s]\n",
      "Epoch: 9: 100%|██████████| 192/192 [00:59<00:00,  3.22it/s]\n",
      "Epoch: 10: 100%|██████████| 192/192 [00:59<00:00,  3.20it/s]\n",
      "Epoch: 11: 100%|██████████| 192/192 [00:59<00:00,  3.23it/s]\n",
      "Epoch: 12: 100%|██████████| 192/192 [00:59<00:00,  3.21it/s]\n",
      "Epoch: 13: 100%|██████████| 192/192 [01:00<00:00,  3.18it/s]\n",
      "Epoch: 14: 100%|██████████| 192/192 [00:59<00:00,  3.23it/s]\n",
      "Epoch: 15: 100%|██████████| 192/192 [00:59<00:00,  3.23it/s]\n",
      "Epoch: 16: 100%|██████████| 192/192 [00:59<00:00,  3.21it/s]\n",
      "Epoch: 17: 100%|██████████| 192/192 [00:59<00:00,  3.21it/s]\n",
      "Epoch: 18: 100%|██████████| 192/192 [00:59<00:00,  3.21it/s]\n",
      "Epoch: 19: 100%|██████████| 192/192 [00:59<00:00,  3.21it/s]\n",
      "Epoch: 20: 100%|██████████| 192/192 [00:59<00:00,  3.23it/s]\n",
      "Epoch: 21: 100%|██████████| 192/192 [00:59<00:00,  3.22it/s]\n",
      "Epoch: 22: 100%|██████████| 192/192 [01:04<00:00,  2.99it/s]\n",
      "Epoch: 23: 100%|██████████| 192/192 [01:03<00:00,  3.02it/s]\n",
      "Epoch: 24: 100%|██████████| 192/192 [01:01<00:00,  3.11it/s]\n"
     ]
    }
   ],
   "source": [
    "batch_size = 128\n",
    "\n",
    "pizzair_model = PizzairNet(ResidualBlock, [2,2,2,2])\n",
    "pizzair_model.to(device)\n",
    "num_epochs = 25\n",
    "optimizer = torch.optim.Adam(pizzair_model.parameters(),lr=1e-3)\n",
    "\n",
    "training_losses = np.zeros(num_epochs)\n",
    "\n",
    "for epoch in range(num_epochs):\n",
    "    # training\n",
    "    pizzair_model.train()\n",
    "    t_loss = 0.0\n",
    "    t_num_correct = 0\n",
    "    # need to \"remake\" it because it doens't reset as of now. oops \n",
    "    imitation_train_dataset = ImitationDataLoader(video_name_list=video_list[0:6],batch_size=batch_size)\n",
    "\n",
    "    for X_train_batch,Y_train_batch in tqdm(imitation_train_dataset,desc='Epoch: '+str(epoch+1)):\n",
    "        # puts on GPU\n",
    "        X_train_batch = X_train_batch.to(device)\n",
    "        Y_train_batch = Y_train_batch.to(device)\n",
    "        \n",
    "        optimizer.zero_grad()\n",
    "        Y_train_hat = pizzair_model(X_train_batch)\n",
    "        #print(Y_train_hat)\n",
    "        #print(Y_train_batch)\n",
    "        loss = pizzair_model.loss(Y_train_hat,Y_train_batch,epoch)\n",
    "        loss.backward()\n",
    "        optimizer.step()\n",
    "        t_loss += loss.item()\n",
    "\n",
    "    training_losses[epoch]   = t_loss/(imitation_train_dataset.__len__()*batch_size)\n",
    "    #torch.save(pizzair_model,'models/pizzairnet_v1_checkpoint_' + str(epoch+1) + '.pth')\n"
   ]
  },
  {
   "cell_type": "code",
   "execution_count": 3,
   "metadata": {},
   "outputs": [
    {
     "data": {
      "text/plain": [
       "[<matplotlib.lines.Line2D at 0x25aacf31150>]"
      ]
     },
     "execution_count": 3,
     "metadata": {},
     "output_type": "execute_result"
    },
    {
     "data": {
      "image/png": "[encoded data removed]",
      "text/plain": [
       "<Figure size 640x480 with 1 Axes>"
      ]
     },
     "metadata": {},
     "output_type": "display_data"
    }
   ],
   "source": [
    "# plots training loss stuff\n",
    "import matplotlib.pyplot as plt\n",
    "plt.plot(range(len(training_losses)),training_losses)"
   ]
  },
  {
   "cell_type": "code",
   "execution_count": 5,
   "metadata": {},
   "outputs": [
    {
     "name": "stderr",
     "output_type": "stream",
     "text": [
      "Train:   0%|          | 2/776 [00:00<03:18,  3.91it/s]"
     ]
    },
    {
     "name": "stdout",
     "output_type": "stream",
     "text": [
      "tensor([0.2064], device='cuda:0') tensor([-0.9810,  0.3383, -0.0182], device='cuda:0') tensor([ 0.3444, -0.3872], device='cuda:0')\n",
      "tensor([0.2720], device='cuda:0') tensor([-1.0419,  0.2859,  0.0720], device='cuda:0') tensor([ 0.2689, -0.3501], device='cuda:0')\n"
     ]
    },
    {
     "name": "stderr",
     "output_type": "stream",
     "text": [
      "Train:   1%|          | 5/776 [00:00<01:34,  8.14it/s]"
     ]
    },
    {
     "name": "stdout",
     "output_type": "stream",
     "text": [
      "tensor([0.1939], device='cuda:0') tensor([-1.8076,  0.8279, -0.5122], device='cuda:0') tensor([ 0.9645, -0.9741], device='cuda:0')\n",
      "tensor([0.4775], device='cuda:0') tensor([-2.3411,  0.2113,  0.9756], device='cuda:0') tensor([ 0.0597, -0.0725], device='cuda:0')\n",
      "tensor([0.1824], device='cuda:0') tensor([-1.2974,  0.4686, -0.0725], device='cuda:0') tensor([ 0.5018, -0.5086], device='cuda:0')\n",
      "tensor([0.2458], device='cuda:0') tensor([-0.8475,  0.2955, -0.0396], device='cuda:0') tensor([ 0.2949, -0.3741], device='cuda:0')\n"
     ]
    },
    {
     "name": "stderr",
     "output_type": "stream",
     "text": [
      "Train:   1%|          | 8/776 [00:01<01:56,  6.57it/s]"
     ]
    },
    {
     "name": "stdout",
     "output_type": "stream",
     "text": [
      "tensor([0.2422], device='cuda:0') tensor([-0.5050,  0.3289, -0.3230], device='cuda:0') tensor([ 0.3671, -0.4895], device='cuda:0')\n",
      "tensor([0.2426], device='cuda:0') tensor([-0.5461,  0.3272, -0.2944], device='cuda:0') tensor([ 0.3617, -0.4798], device='cuda:0')\n",
      "tensor([0.2606], device='cuda:0') tensor([-0.3731,  0.2354, -0.2263], device='cuda:0') tensor([ 0.2472, -0.3859], device='cuda:0')\n"
     ]
    },
    {
     "name": "stderr",
     "output_type": "stream",
     "text": [
      "Train:   2%|▏         | 12/776 [00:01<01:14, 10.19it/s]"
     ]
    },
    {
     "name": "stdout",
     "output_type": "stream",
     "text": [
      "tensor([0.1318], device='cuda:0') tensor([-1.4554,  0.7546, -0.5244], device='cuda:0') tensor([ 0.8865, -0.8750], device='cuda:0')\n",
      "tensor([0.1552], device='cuda:0') tensor([-1.2455,  0.8852, -1.0438], device='cuda:0') tensor([ 1.0927, -1.1474], device='cuda:0')\n",
      "tensor([0.1112], device='cuda:0') tensor([-1.7689,  1.0378, -0.9003], device='cuda:0') tensor([ 1.2568, -1.2335], device='cuda:0')\n",
      "tensor([0.1097], device='cuda:0') tensor([-1.6604,  1.0988, -1.1690], device='cuda:0') tensor([ 1.3562, -1.3570], device='cuda:0')\n"
     ]
    },
    {
     "name": "stderr",
     "output_type": "stream",
     "text": [
      "Train:   2%|▏         | 16/776 [00:01<01:03, 11.88it/s]"
     ]
    },
    {
     "name": "stdout",
     "output_type": "stream",
     "text": [
      "tensor([0.5963], device='cuda:0') tensor([-1.3833,  0.1220,  0.4470], device='cuda:0') tensor([ 0.0117, -0.2261], device='cuda:0')\n",
      "tensor([0.1084], device='cuda:0') tensor([-1.7130,  1.0790, -1.0525], device='cuda:0') tensor([ 1.3211, -1.3096], device='cuda:0')\n",
      "tensor([0.6799], device='cuda:0') tensor([-1.3353,  0.1195,  0.3632], device='cuda:0') tensor([ 0.0125, -0.2908], device='cuda:0')\n"
     ]
    },
    {
     "name": "stderr",
     "output_type": "stream",
     "text": [
      "Train:   2%|▏         | 18/776 [00:02<00:59, 12.76it/s]"
     ]
    },
    {
     "name": "stdout",
     "output_type": "stream",
     "text": [
      "tensor([0.2213], device='cuda:0') tensor([-0.1934,  0.2800, -0.3961], device='cuda:0') tensor([ 0.3213, -0.4546], device='cuda:0')\n",
      "tensor([0.3078], device='cuda:0') tensor([-1.4542,  0.2972,  0.3055], device='cuda:0') tensor([ 0.2511, -0.2957], device='cuda:0')\n"
     ]
    },
    {
     "name": "stderr",
     "output_type": "stream",
     "text": [
      "Train:   2%|▏         | 18/776 [00:02<01:34,  8.02it/s]\n"
     ]
    },
    {
     "name": "stdout",
     "output_type": "stream",
     "text": [
      "Train Loss: 0.0008385883921459701\n"
     ]
    },
    {
     "name": "stderr",
     "output_type": "stream",
     "text": [
      "Test: 100%|██████████| 168/168 [00:10<00:00, 16.23it/s]"
     ]
    },
    {
     "name": "stdout",
     "output_type": "stream",
     "text": [
      "Train Loss: 0.003873479716102814\n"
     ]
    },
    {
     "name": "stderr",
     "output_type": "stream",
     "text": [
      "\n"
     ]
    }
   ],
   "source": [
    "batch_size = 32\n",
    "imitation_train_dataset = ImitationDataLoader(video_name_list=video_list[0:6],batch_size=batch_size)\n",
    "imitation_test_dataset = ImitationDataLoader(video_name_list=[video_list[6]],batch_size=batch_size)\n",
    "pizzair_model = torch.load('models/pizzairnet_v1_checkpoint_24.pth')\n",
    "pizzair_model.to(device)\n",
    "pizzair_model.eval()\n",
    "train_loss = 0.0\n",
    "y_true = []\n",
    "y_pred = []\n",
    "with torch.inference_mode():\n",
    "    for X_train_batch,Y_train_batch in tqdm(imitation_train_dataset,desc='Train'):\n",
    "        # puts on GPU\n",
    "        X_train_batch = X_train_batch.to(device)\n",
    "        Y_train_batch = Y_train_batch.to(device)\n",
    "        Y_train_hat = pizzair_model(X_train_batch)\n",
    "        # adds relevant things\n",
    "        #print(X_train_batch)\n",
    "        print(Y_train_hat[0][0],Y_train_hat[1][0],Y_train_hat[2][0])\n",
    "        #print(Y_train_batch[0][0],Y_train_batch[0][1],Y_train_batch[0][2])\n",
    "        loss = pizzair_model.loss(Y_train_hat,Y_train_batch,50)\n",
    "        #optimizer.step()\n",
    "        train_loss += loss.item()\n",
    "    print('Train Loss:',train_loss/(imitation_train_dataset.__len__()*batch_size))\n",
    "    test_loss = 0.0\n",
    "\n",
    "    for X_train_batch,Y_train_batch in tqdm(imitation_test_dataset,desc='Test'):\n",
    "        # puts on GPU\n",
    "        X_train_batch = X_train_batch.to(device)\n",
    "        Y_train_batch = Y_train_batch.to(device)\n",
    "\n",
    "        Y_train_hat = pizzair_model(X_train_batch)\n",
    "        #print(Y_train_hat)\n",
    "        loss = pizzair_model.loss(Y_train_hat,Y_train_batch,50)\n",
    "        test_loss += loss.item()\n",
    "    print('Train Loss:',train_loss/(imitation_test_dataset.__len__()*batch_size))"
   ]
  },
  {
   "cell_type": "code",
   "execution_count": 3,
   "metadata": {},
   "outputs": [],
   "source": [
    "torch.save(pizzair_model,'models/pizzairnet_v1_1_0.pth')"
   ]
  }
 ],
 "metadata": {
  "kernelspec": {
   "display_name": "rl",
   "language": "python",
   "name": "python3"
  },
  "language_info": {
   "codemirror_mode": {
    "name": "ipython",
    "version": 3
   },
   "file_extension": ".py",
   "mimetype": "text/x-python",
   "name": "python",
   "nbconvert_exporter": "python",
   "pygments_lexer": "ipython3",
   "version": "3.11.5"
  }
 },
 "nbformat": 4,
 "nbformat_minor": 2
}
