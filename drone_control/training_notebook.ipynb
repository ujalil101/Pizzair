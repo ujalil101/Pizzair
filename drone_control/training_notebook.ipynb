{
 "cells": [
  {
   "cell_type": "code",
   "execution_count": 1,
   "metadata": {},
   "outputs": [],
   "source": [
    "from tqdm import tqdm\n",
    "import torch\n",
    "import torch.nn as nn\n",
    "import torch.nn.functional as F\n",
    "import pickle\n",
    "import numpy as np\n",
    "import random\n",
    "from pizzairnet import PizzairNet, ResidualBlock\n",
    "from imitation_learning_dataloader import ImitationDataLoader\n",
    "\n",
    "# training configuration\n",
    "\n",
    "device = torch.device(\"cuda:0\" if torch.cuda.is_available() else \"cpu\")\n",
    "#pizzair_model = PizzairNet(ResidualBlock, [3, 4, 6, 3])\n",
    "\n",
    "\n",
    "# data loading\n",
    "\n",
    "video_list_wd2 = ['wd2_brown',\n",
    "                  'wd2_city1',\n",
    "                  'wd2_city2',\n",
    "                  'wd2_office',\n",
    "                  'wd2_park1',\n",
    "                  'wd2_park2']\n",
    "video_list_fh4 = ['fh4_edin',\n",
    "                  'fh4_park',\n",
    "                  'fh4_quarry',\n",
    "                  'fh4_train',\n",
    "                  'fh4_tree']\n",
    "video_list_mix = ['wd2_city1', # random mix of the two data sets \n",
    "                  'wd2_office',\n",
    "                  'wd2_park2',\n",
    "                  'fh4_edin',\n",
    "                  'fh4_train',\n",
    "                  'fh4_tree']\n",
    "video_list_test_wd2 = ['wd2_sub']\n",
    "video_list_real = ['real_south']\n",
    "\n",
    "vid_list_all_sim = video_list_wd2 + video_list_fh4\n",
    "vid_list_all = video_list_wd2 + video_list_fh4 + video_list_test_wd2 + video_list_real"
   ]
  },
  {
   "cell_type": "code",
   "execution_count": 3,
   "metadata": {},
   "outputs": [
    {
     "name": "stderr",
     "output_type": "stream",
     "text": [
      "Epoch: 1: 100%|██████████| 408/408 [02:30<00:00,  2.71it/s]\n",
      "Epoch: 2: 100%|██████████| 408/408 [02:33<00:00,  2.67it/s]\n",
      "Epoch: 3: 100%|██████████| 408/408 [02:32<00:00,  2.68it/s]\n",
      "Epoch: 4: 100%|██████████| 408/408 [02:41<00:00,  2.53it/s]\n",
      "Epoch: 5: 100%|██████████| 408/408 [02:46<00:00,  2.45it/s]\n",
      "Epoch: 6: 100%|██████████| 408/408 [02:46<00:00,  2.45it/s]\n",
      "Epoch: 7: 100%|██████████| 408/408 [02:38<00:00,  2.57it/s]\n",
      "Epoch: 8: 100%|██████████| 408/408 [02:24<00:00,  2.83it/s]\n",
      "Epoch: 9: 100%|██████████| 408/408 [02:23<00:00,  2.84it/s]\n",
      "Epoch: 10: 100%|██████████| 408/408 [02:26<00:00,  2.78it/s]\n",
      "Epoch: 11: 100%|██████████| 408/408 [02:21<00:00,  2.89it/s]\n",
      "Epoch: 12: 100%|██████████| 408/408 [02:22<00:00,  2.86it/s]\n",
      "Epoch: 13: 100%|██████████| 408/408 [02:29<00:00,  2.73it/s]\n",
      "Epoch: 14: 100%|██████████| 408/408 [02:28<00:00,  2.75it/s]\n",
      "Epoch: 15: 100%|██████████| 408/408 [02:36<00:00,  2.60it/s]\n",
      "Epoch: 16: 100%|██████████| 408/408 [02:37<00:00,  2.58it/s]\n",
      "Epoch: 17: 100%|██████████| 408/408 [02:20<00:00,  2.90it/s]\n",
      "Epoch: 18: 100%|██████████| 408/408 [02:26<00:00,  2.79it/s]\n",
      "Epoch: 19: 100%|██████████| 408/408 [02:27<00:00,  2.76it/s]\n",
      "Epoch: 20: 100%|██████████| 408/408 [02:23<00:00,  2.85it/s]\n",
      "Epoch: 21: 100%|██████████| 408/408 [02:21<00:00,  2.89it/s]\n",
      "Epoch: 22: 100%|██████████| 408/408 [02:21<00:00,  2.88it/s]\n",
      "Epoch: 23: 100%|██████████| 408/408 [02:20<00:00,  2.89it/s]\n",
      "Epoch: 24: 100%|██████████| 408/408 [02:21<00:00,  2.89it/s]\n",
      "Epoch: 25: 100%|██████████| 408/408 [02:21<00:00,  2.88it/s]\n",
      "Epoch: 26: 100%|██████████| 408/408 [02:22<00:00,  2.87it/s]\n",
      "Epoch: 27: 100%|██████████| 408/408 [02:22<00:00,  2.86it/s]\n",
      "Epoch: 28: 100%|██████████| 408/408 [02:22<00:00,  2.86it/s]\n",
      "Epoch: 29: 100%|██████████| 408/408 [02:22<00:00,  2.86it/s]\n",
      "Epoch: 30: 100%|██████████| 408/408 [02:23<00:00,  2.85it/s]\n"
     ]
    }
   ],
   "source": [
    "batch_size = 128\n",
    "\n",
    "pizzair_model = PizzairNet(ResidualBlock, [2,2,2,2])\n",
    "pizzair_model.to(device)\n",
    "num_epochs = 150\n",
    "optimizer = torch.optim.AdamW(pizzair_model.parameters(),lr=1e-3)\n",
    "\n",
    "training_losses = np.zeros(num_epochs)\n",
    "\n",
    "for epoch in range(num_epochs):\n",
    "    # training\n",
    "    pizzair_model.train()\n",
    "    t_loss = 0.0\n",
    "    t_num_correct = 0\n",
    "    # need to \"remake\" it because it doens't reset as of now. oops \n",
    "    #imitation_train_dataset = ImitationDataLoader(video_name_list=video_list_real,batch_size=batch_size)\n",
    "    imitation_train_dataset = ImitationDataLoader(video_name_list=vid_list_all,batch_size=batch_size)\n",
    "\n",
    "    for X_train_batch,Y_train_batch in tqdm(imitation_train_dataset,desc='Epoch: '+str(epoch+1)):\n",
    "    #print('Epoch: '+str(epoch+1))\n",
    "    #for X_train_batch,Y_train_batch in imitation_train_dataset:\n",
    "        \n",
    "        # puts on GPU\n",
    "        X_train_batch = X_train_batch.to(device)\n",
    "        Y_train_batch = Y_train_batch.to(device)\n",
    "        \n",
    "        optimizer.zero_grad()\n",
    "        Y_train_hat = pizzair_model(X_train_batch)\n",
    "        #print(Y_train_hat)\n",
    "        #print(Y_train_batch)\n",
    "        loss = pizzair_model.loss(Y_train_hat,Y_train_batch,epoch)\n",
    "        loss.backward()\n",
    "        optimizer.step()\n",
    "        t_loss += loss.item()\n",
    "\n",
    "    training_losses[epoch]   = t_loss/(imitation_train_dataset.__len__()*batch_size)\n",
    "torch.save(pizzair_model,'models/model_v3' +  '.pth')\n"
   ]
  },
  {
   "cell_type": "code",
   "execution_count": 3,
   "metadata": {},
   "outputs": [],
   "source": [
    "torch.save(pizzair_model,'models/model_v2_all' +  '.pth')\n"
   ]
  },
  {
   "cell_type": "code",
   "execution_count": 4,
   "metadata": {},
   "outputs": [
    {
     "data": {
      "text/plain": [
       "[<matplotlib.lines.Line2D at 0x1c83b3158d0>]"
      ]
     },
     "execution_count": 4,
     "metadata": {},
     "output_type": "execute_result"
    },
    {
     "data": {
      "image/png": "[encoded data removed]",
      "text/plain": [
       "<Figure size 640x480 with 1 Axes>"
      ]
     },
     "metadata": {},
     "output_type": "display_data"
    }
   ],
   "source": [
    "import matplotlib.pyplot as plt\n",
    "plt.plot(range(len(training_losses)),training_losses)"
   ]
  },
  {
   "cell_type": "code",
   "execution_count": 7,
   "metadata": {},
   "outputs": [
    {
     "name": "stderr",
     "output_type": "stream",
     "text": [
      "Epoch: 1: 100%|██████████| 16/16 [00:04<00:00,  3.30it/s]\n",
      "Epoch: 2: 100%|██████████| 16/16 [00:04<00:00,  3.33it/s]\n",
      "Epoch: 3: 100%|██████████| 16/16 [00:04<00:00,  3.37it/s]\n",
      "Epoch: 4: 100%|██████████| 16/16 [00:04<00:00,  3.38it/s]\n",
      "Epoch: 5: 100%|██████████| 16/16 [00:04<00:00,  3.38it/s]\n",
      "Epoch: 6: 100%|██████████| 16/16 [00:04<00:00,  3.38it/s]\n",
      "Epoch: 7: 100%|██████████| 16/16 [00:04<00:00,  3.38it/s]\n",
      "Epoch: 8: 100%|██████████| 16/16 [00:04<00:00,  3.38it/s]\n",
      "Epoch: 9: 100%|██████████| 16/16 [00:04<00:00,  3.37it/s]\n",
      "Epoch: 10: 100%|██████████| 16/16 [00:04<00:00,  3.36it/s]\n",
      "Epoch: 11: 100%|██████████| 16/16 [00:04<00:00,  3.36it/s]\n",
      "Epoch: 12: 100%|██████████| 16/16 [00:04<00:00,  3.37it/s]\n",
      "Epoch: 13: 100%|██████████| 16/16 [00:04<00:00,  3.36it/s]\n",
      "Epoch: 14: 100%|██████████| 16/16 [00:04<00:00,  3.37it/s]\n",
      "Epoch: 15: 100%|██████████| 16/16 [00:04<00:00,  3.37it/s]\n",
      "Epoch: 16: 100%|██████████| 16/16 [00:04<00:00,  3.37it/s]\n",
      "Epoch: 17: 100%|██████████| 16/16 [00:04<00:00,  3.37it/s]\n",
      "Epoch: 18: 100%|██████████| 16/16 [00:04<00:00,  3.36it/s]\n",
      "Epoch: 19: 100%|██████████| 16/16 [00:04<00:00,  3.37it/s]\n",
      "Epoch: 20: 100%|██████████| 16/16 [00:04<00:00,  3.34it/s]\n"
     ]
    }
   ],
   "source": [
    "### Fine-tuning script ### \n",
    "batch_size = 128\n",
    "\n",
    "pizzair_model = torch.load('models/model_v2_all' +  '.pth')\n",
    "pizzair_model.to(device)\n",
    "num_epochs = 20\n",
    "optimizer = torch.optim.AdamW(pizzair_model.parameters(),lr=1e-4)\n",
    "\n",
    "training_losses = np.zeros(num_epochs)\n",
    "\n",
    "for epoch in range(num_epochs):\n",
    "    # training\n",
    "    pizzair_model.train()\n",
    "    t_loss = 0.0\n",
    "    t_num_correct = 0\n",
    "    # need to \"remake\" it because it doens't reset as of now. oops \n",
    "    imitation_train_dataset = ImitationDataLoader(video_name_list=video_list_real,batch_size=batch_size)\n",
    "\n",
    "    for X_train_batch,Y_train_batch in tqdm(imitation_train_dataset,desc='Epoch: '+str(epoch+1)):\n",
    "        # puts on GPU\n",
    "        X_train_batch = X_train_batch.to(device)\n",
    "        Y_train_batch = Y_train_batch.to(device)\n",
    "        \n",
    "        optimizer.zero_grad()\n",
    "        Y_train_hat = pizzair_model(X_train_batch)\n",
    "        #print(Y_train_hat)\n",
    "        #print(Y_train_batch)\n",
    "        loss = pizzair_model.loss(Y_train_hat,Y_train_batch,epoch+100)\n",
    "        loss.backward()\n",
    "        optimizer.step()\n",
    "        t_loss += loss.item()\n",
    "\n",
    "    training_losses[epoch]   = t_loss/(imitation_train_dataset.__len__()*batch_size)\n",
    "torch.save(pizzair_model,'models/model_v2_all_ft' +  '.pth')\n"
   ]
  },
  {
   "cell_type": "code",
   "execution_count": 14,
   "metadata": {},
   "outputs": [
    {
     "data": {
      "image/png": "[encoded data removed]",
      "text/plain": [
       "<Figure size 640x480 with 1 Axes>"
      ]
     },
     "metadata": {},
     "output_type": "display_data"
    }
   ],
   "source": [
    "# plots training loss stuff\n",
    "import matplotlib.pyplot as plt\n",
    "plt.plot(range(len(training_losses)),training_losses)\n",
    "np.save('train_loss_record.npy',training_losses)"
   ]
  },
  {
   "cell_type": "code",
   "execution_count": 16,
   "metadata": {},
   "outputs": [
    {
     "name": "stdout",
     "output_type": "stream",
     "text": [
      "***model_v2_real.pth***\n",
      "Test Sim Loss: 0.0567758587976208\n",
      "Test Real Loss: 0.012792560213711113\n",
      "All Loss: 0.04123704235911753\n"
     ]
    },
    {
     "name": "stderr",
     "output_type": "stream",
     "text": [
      "Exception ignored in: <function VideoLoader.__del__ at 0x000002921B963A60>\n",
      "Traceback (most recent call last):\n",
      "  File \"c:\\Users\\qtcc\\miniconda3\\envs\\rl\\Lib\\site-packages\\decord\\video_loader.py\", line 62, in __del__\n",
      "    _CAPI_VideoLoaderFree(self._handle)\n",
      "  File \"c:\\Users\\qtcc\\miniconda3\\envs\\rl\\Lib\\site-packages\\decord\\_ffi\\_ctypes\\function.py\", line 173, in __call__\n",
      "    check_call(_LIB.DECORDFuncCall(\n",
      "               ^^^^^^^^^^^^^^^^^^^^\n",
      "KeyboardInterrupt: \n"
     ]
    },
    {
     "name": "stdout",
     "output_type": "stream",
     "text": [
      "***model_v2_all.pth***\n",
      "Test Sim Loss: 0.01635358749089868\n"
     ]
    }
   ],
   "source": [
    "# eval script\n",
    "\n",
    "models_to_evaluate = ['model_v2_real.pth',\n",
    "                      'model_v2_all.pth',\n",
    "                      'model_v2_all_ft.pth',\n",
    "                      'model_v2_wd2.pth',\n",
    "                      'model_v2_fh4.pth',\n",
    "                      'model_v2_mix.pth']\n",
    "for model in models_to_evaluate:\n",
    "    # resets dataloaders... yeah\n",
    "    test_sim_dataset = ImitationDataLoader(video_name_list=video_list_test_wd2,batch_size=batch_size)\n",
    "    test_real_dataset = ImitationDataLoader(video_name_list=video_list_real,batch_size=batch_size)\n",
    "    test_all_dataset = ImitationDataLoader(video_name_list=vid_list_all,batch_size=batch_size)\n",
    "    print('***' + model + '***')\n",
    "    pizzair_model = torch.load('models/' + model)\n",
    "    pizzair_model.to(device)\n",
    "    pizzair_model.eval()\n",
    "    sim_test_loss = 0.0\n",
    "    real_test_loss = 0.0\n",
    "    all_loss = 0.0\n",
    "    y_true = []\n",
    "    y_pred = []\n",
    "    with torch.inference_mode():\n",
    "        # Loop for Test Sim\n",
    "        for X_train_batch,Y_train_batch in test_sim_dataset:\n",
    "            X_train_batch = X_train_batch.to(device)\n",
    "            Y_train_batch = Y_train_batch.to(device)\n",
    "            Y_train_hat = pizzair_model(X_train_batch)\n",
    "            loss = pizzair_model.loss(Y_train_hat,Y_train_batch,50)\n",
    "            #optimizer.step()\n",
    "            sim_test_loss += loss.item()\n",
    "        print('Test Sim Loss:',sim_test_loss/(test_sim_dataset.__len__()*batch_size))\n",
    "        # Loop for Test Real\n",
    "        for X_train_batch,Y_train_batch in test_real_dataset:\n",
    "            X_train_batch = X_train_batch.to(device)\n",
    "            Y_train_batch = Y_train_batch.to(device)\n",
    "            Y_train_hat = pizzair_model(X_train_batch)\n",
    "            loss = pizzair_model.loss(Y_train_hat,Y_train_batch,50)\n",
    "            real_test_loss += loss.item()\n",
    "        print('Test Real Loss:',real_test_loss/(test_real_dataset.__len__()*batch_size))\n",
    "        # Loop for All\n",
    "        for X_train_batch,Y_train_batch in test_all_dataset:\n",
    "            X_train_batch = X_train_batch.to(device)\n",
    "            Y_train_batch = Y_train_batch.to(device)\n",
    "            Y_train_hat = pizzair_model(X_train_batch)\n",
    "            loss = pizzair_model.loss(Y_train_hat,Y_train_batch,50)\n",
    "            all_loss += loss.item()\n",
    "        print('All Loss:',all_loss/(test_all_dataset.__len__()*batch_size))\n"
   ]
  },
  {
   "cell_type": "code",
   "execution_count": 3,
   "metadata": {},
   "outputs": [],
   "source": [
    "torch.save(pizzair_model,'models/pizzairnet_v1_1_0.pth')"
   ]
  }
 ],
 "metadata": {
  "kernelspec": {
   "display_name": "rl",
   "language": "python",
   "name": "python3"
  },
  "language_info": {
   "codemirror_mode": {
    "name": "ipython",
    "version": 3
   },
   "file_extension": ".py",
   "mimetype": "text/x-python",
   "name": "python",
   "nbconvert_exporter": "python",
   "pygments_lexer": "ipython3",
   "version": "3.11.5"
  }
 },
 "nbformat": 4,
 "nbformat_minor": 2
}
